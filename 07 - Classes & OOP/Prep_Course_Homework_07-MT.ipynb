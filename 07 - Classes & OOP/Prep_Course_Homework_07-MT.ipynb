{
 "cells": [
  {
   "cell_type": "markdown",
   "metadata": {},
   "source": [
    "## Clases y Programación Orientada a Objetos"
   ]
  },
  {
   "cell_type": "markdown",
   "metadata": {},
   "source": [
    "1) Crear la clase vehículo que contenga los atributos:<br>\n",
    "Color<br>\n",
    "Si es moto, auto, camioneta ó camión<br>\n",
    "Cilindrada del motor"
   ]
  },
  {
   "cell_type": "code",
   "execution_count": 8,
   "metadata": {},
   "outputs": [],
   "source": [
    "class Vehiculo:\n",
    "\n",
    "    def __init__(self,color,tipo,cilindrada):\n",
    "        self.color = color\n",
    "        self.tipo = tipo\n",
    "        self.cilindrada = cilindrada\n"
   ]
  },
  {
   "cell_type": "markdown",
   "metadata": {},
   "source": [
    "2) A la clase Vehiculo creada en el punto 1, agregar los siguientes métodos:<br>\n",
    "Acelerar<br>\n",
    "Frenar<br>\n",
    "Doblar<br>"
   ]
  },
  {
   "cell_type": "code",
   "execution_count": 9,
   "metadata": {},
   "outputs": [],
   "source": [
    "class Vehiculo:\n",
    "\n",
    "    def __init__(self,color,tipo,cilindrada):\n",
    "        self.color = color\n",
    "        self.tipo = tipo\n",
    "        self.cilindrada = cilindrada\n",
    "        self.velocidad = 0\n",
    "        self.grados = 0\n",
    "    \n",
    "    def acelerar(self,aceleracion):\n",
    "        self.velocidad += aceleracion\n",
    "\n",
    "    def frenar(self,desaceleracion):\n",
    "        self.velocidad -= desaceleracion\n",
    "\n",
    "    def doblar(self, grados):\n",
    "        self.grados += grados"
   ]
  },
  {
   "cell_type": "markdown",
   "metadata": {},
   "source": [
    "3) Instanciar 3 objetos de la clase vehículo y ejecutar sus métodos, probar luego el resultado"
   ]
  },
  {
   "cell_type": "code",
   "execution_count": 10,
   "metadata": {},
   "outputs": [
    {
     "name": "stdout",
     "output_type": "stream",
     "text": [
      "Velocidad: 120 km/h\n",
      "Velocidad: 90 km/h\n",
      "Dirección: 30 grados\n"
     ]
    }
   ],
   "source": [
    "ford = Vehiculo('Negro','auto','1800 cc')\n",
    "\n",
    "ford.color\n",
    "ford.tipo\n",
    "ford.cilindrada\n",
    "\n",
    "ford.acelerar(120)\n",
    "print(f'Velocidad: {ford.velocidad} km/h')\n",
    "\n",
    "ford.frenar(30)\n",
    "print(f'Velocidad: {ford.velocidad} km/h')\n",
    "\n",
    "ford.doblar(30)\n",
    "print(f'Dirección: {ford.grados} grados')"
   ]
  },
  {
   "cell_type": "markdown",
   "metadata": {},
   "source": [
    "4) Agregar a la clase Vehiculo, un método que muestre su estado, es decir, a que velocidad se encuentra y su dirección. Y otro método que muestre color, tipo y cilindrada"
   ]
  },
  {
   "cell_type": "code",
   "execution_count": 20,
   "metadata": {},
   "outputs": [],
   "source": [
    "class Vehiculo:\n",
    "\n",
    "    def __init__(self, color, tipo, cilindrada):\n",
    "        self.color = color\n",
    "        self.tipo = tipo\n",
    "        self.cilindrada = cilindrada\n",
    "        self.velocidad = 0\n",
    "        self.grados = 0\n",
    "\n",
    "    def acelerar(self, aceleracion):\n",
    "        self.velocidad += aceleracion\n",
    "\n",
    "    def frenar(self, desaceleracion):\n",
    "        self.velocidad -= desaceleracion\n",
    "\n",
    "    def doblar(self, grados):\n",
    "        self.grados += grados\n",
    "\n",
    "    def caracteristicas(self):\n",
    "        print(f'El vehiculo es de tipo {self.tipo} y color {self.color} con una cilindrada de {self.cilindrada}')\n",
    "\n",
    "    def estado(self):\n",
    "        print(f'El vehiculo transita a velocidad {self.velocidad} en la dirección {self.grados} grados.')"
   ]
  },
  {
   "cell_type": "code",
   "execution_count": 21,
   "metadata": {},
   "outputs": [
    {
     "name": "stdout",
     "output_type": "stream",
     "text": [
      "El vehiculo es de tipo auto y color Negro con una cilindrada de 1800 cc\n",
      "El vehiculo transita a velocidad 90 en la dirección 30 grados.\n"
     ]
    }
   ],
   "source": [
    "ford = Vehiculo('Negro','auto','1800 cc')\n",
    "\n",
    "ford.color\n",
    "ford.tipo\n",
    "ford.cilindrada\n",
    "\n",
    "ford.acelerar(120)\n",
    "#print(f'Velocidad: {ford.velocidad} km/h')\n",
    "\n",
    "ford.frenar(30)\n",
    "#print(f'Velocidad: {ford.velocidad} km/h')\n",
    "\n",
    "ford.doblar(30)\n",
    "#print(f'Dirección: {ford.grados} grados')\n",
    "\n",
    "ford.caracteristicas()\n",
    "ford.estado()"
   ]
  },
  {
   "cell_type": "markdown",
   "metadata": {},
   "source": [
    "5) Crear una clase que permita utilizar las funciones creadas en la práctica del módulo 6<br>\n",
    "Verificar Primo<br>\n",
    "Valor modal<br>\n",
    "Conversión grados<br>\n",
    "Factorial<br>"
   ]
  },
  {
   "cell_type": "markdown",
   "metadata": {},
   "source": [
    "6) Probar las funciones incorporadas en la clase del punto 5"
   ]
  },
  {
   "cell_type": "markdown",
   "metadata": {},
   "source": [
    "7) Es necesario que la clase creada en el punto 5 contenga una lista, sobre la cual se aplquen las funciones incorporadas"
   ]
  },
  {
   "cell_type": "markdown",
   "metadata": {},
   "source": [
    "8) Crear un archivo .py aparte y ubicar allí la clase generada en el punto anterior. Luego realizar la importación del módulo y probar alguna de sus funciones"
   ]
  }
 ],
 "metadata": {
  "interpreter": {
   "hash": "c85384e4cb51c8b72350f3a8712cc8351fdc3955e32a27f9b60c6242ab125f01"
  },
  "kernelspec": {
   "display_name": "Python 3 (ipykernel)",
   "language": "python",
   "name": "python3"
  },
  "language_info": {
   "codemirror_mode": {
    "name": "ipython",
    "version": 3
   },
   "file_extension": ".py",
   "mimetype": "text/x-python",
   "name": "python",
   "nbconvert_exporter": "python",
   "pygments_lexer": "ipython3",
   "version": "3.8.5"
  }
 },
 "nbformat": 4,
 "nbformat_minor": 4
}
