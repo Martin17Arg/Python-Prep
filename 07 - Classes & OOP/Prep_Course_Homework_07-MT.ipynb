{
 "cells": [
  {
   "cell_type": "markdown",
   "metadata": {},
   "source": [
    "## Clases y Programación Orientada a Objetos"
   ]
  },
  {
   "cell_type": "markdown",
   "metadata": {},
   "source": [
    "1) Crear la clase vehículo que contenga los atributos:<br>\n",
    "Color<br>\n",
    "Si es moto, auto, camioneta ó camión<br>\n",
    "Cilindrada del motor"
   ]
  },
  {
   "cell_type": "code",
   "execution_count": 31,
   "metadata": {},
   "outputs": [],
   "source": [
    "class Vehiculo:\n",
    "\n",
    "    def __init__(self,color,tipo,cilindrada):\n",
    "        self.color = color\n",
    "        self.tipo = tipo\n",
    "        self.cilindrada = cilindrada\n"
   ]
  },
  {
   "cell_type": "markdown",
   "metadata": {},
   "source": [
    "2) A la clase Vehiculo creada en el punto 1, agregar los siguientes métodos:<br>\n",
    "Acelerar<br>\n",
    "Frenar<br>\n",
    "Doblar<br>"
   ]
  },
  {
   "cell_type": "code",
   "execution_count": 32,
   "metadata": {},
   "outputs": [],
   "source": [
    "class Vehiculo:\n",
    "\n",
    "    def __init__(self,color,tipo,cilindrada):\n",
    "        self.color = color\n",
    "        self.tipo = tipo\n",
    "        self.cilindrada = cilindrada\n",
    "        self.velocidad = 0\n",
    "        self.grados = 0\n",
    "    \n",
    "    def acelerar(self,aceleracion):\n",
    "        self.velocidad += aceleracion\n",
    "\n",
    "    def frenar(self,desaceleracion):\n",
    "        self.velocidad -= desaceleracion\n",
    "\n",
    "    def doblar(self, grados):\n",
    "        self.grados += grados"
   ]
  },
  {
   "cell_type": "markdown",
   "metadata": {},
   "source": [
    "3) Instanciar 3 objetos de la clase vehículo y ejecutar sus métodos, probar luego el resultado"
   ]
  },
  {
   "cell_type": "code",
   "execution_count": 33,
   "metadata": {},
   "outputs": [
    {
     "name": "stdout",
     "output_type": "stream",
     "text": [
      "Velocidad: 120 km/h\n",
      "Velocidad: 90 km/h\n",
      "Dirección: 30 grados\n"
     ]
    }
   ],
   "source": [
    "ford = Vehiculo('Negro','auto','1800 cc')\n",
    "\n",
    "ford.color\n",
    "ford.tipo\n",
    "ford.cilindrada\n",
    "\n",
    "ford.acelerar(120)\n",
    "print(f'Velocidad: {ford.velocidad} km/h')\n",
    "\n",
    "ford.frenar(30)\n",
    "print(f'Velocidad: {ford.velocidad} km/h')\n",
    "\n",
    "ford.doblar(30)\n",
    "print(f'Dirección: {ford.grados} grados')"
   ]
  },
  {
   "cell_type": "markdown",
   "metadata": {},
   "source": [
    "4) Agregar a la clase Vehiculo, un método que muestre su estado, es decir, a que velocidad se encuentra y su dirección. Y otro método que muestre color, tipo y cilindrada"
   ]
  },
  {
   "cell_type": "code",
   "execution_count": 34,
   "metadata": {},
   "outputs": [],
   "source": [
    "class Vehiculo:\n",
    "\n",
    "    def __init__(self, color, tipo, cilindrada):\n",
    "        self.color = color\n",
    "        self.tipo = tipo\n",
    "        self.cilindrada = cilindrada\n",
    "        self.velocidad = 0\n",
    "        self.grados = 0\n",
    "\n",
    "    def acelerar(self, aceleracion):\n",
    "        self.velocidad += aceleracion\n",
    "\n",
    "    def frenar(self, desaceleracion):\n",
    "        self.velocidad -= desaceleracion\n",
    "\n",
    "    def doblar(self, grados):\n",
    "        self.grados += grados\n",
    "\n",
    "    def caracteristicas(self):\n",
    "        print(f'El vehiculo es de tipo {self.tipo} y color {self.color} con una cilindrada de {self.cilindrada}')\n",
    "\n",
    "    def estado(self):\n",
    "        print(f'El vehiculo transita a velocidad {self.velocidad} en la dirección {self.grados} grados.')"
   ]
  },
  {
   "cell_type": "code",
   "execution_count": 35,
   "metadata": {},
   "outputs": [
    {
     "name": "stdout",
     "output_type": "stream",
     "text": [
      "El vehiculo es de tipo auto y color Negro con una cilindrada de 1800 cc\n",
      "El vehiculo transita a velocidad 90 en la dirección 30 grados.\n"
     ]
    }
   ],
   "source": [
    "ford = Vehiculo('Negro','auto','1800 cc')\n",
    "\n",
    "ford.color\n",
    "ford.tipo\n",
    "ford.cilindrada\n",
    "\n",
    "ford.acelerar(120)\n",
    "#print(f'Velocidad: {ford.velocidad} km/h')\n",
    "\n",
    "ford.frenar(30)\n",
    "#print(f'Velocidad: {ford.velocidad} km/h')\n",
    "\n",
    "ford.doblar(30)\n",
    "#print(f'Dirección: {ford.grados} grados')\n",
    "\n",
    "ford.caracteristicas()\n",
    "ford.estado()"
   ]
  },
  {
   "cell_type": "markdown",
   "metadata": {},
   "source": [
    "5) Crear una clase que permita utilizar las funciones creadas en la práctica del módulo 6<br>\n",
    "Verificar Primo<br>\n",
    "Valor modal<br>\n",
    "Conversión grados<br>\n",
    "Factorial<br>"
   ]
  },
  {
   "cell_type": "code",
   "execution_count": 36,
   "metadata": {},
   "outputs": [],
   "source": [
    "class herramientas:\n",
    "\n",
    "    def primo(numero):\n",
    "\n",
    "        es_primo = True\n",
    "        div = 2\n",
    "        while div < numero:\n",
    "            if (numero % div) == 0:\n",
    "                es_primo = False\n",
    "                break\n",
    "            div += 1\n",
    "\n",
    "        return es_primo\n",
    "\n",
    "    def contar(lista, menor):\n",
    "\n",
    "        moda=0\n",
    "        frecuencia=0\n",
    "        dicc = {}\n",
    "\n",
    "        lista.sort(reverse = not menor)\n",
    "\n",
    "        # Construir diccionario para contar las frecuencias\n",
    "        for item in lista:\n",
    "            if item in dicc:\n",
    "                dicc[item] += 1\n",
    "            else:\n",
    "                dicc[item] = 1\n",
    "\n",
    "        # Encontrar la máxima frecuencia\n",
    "        for item in dicc:\n",
    "            if dicc[item] > frecuencia:\n",
    "                frecuencia = dicc[item]\n",
    "                moda = item\n",
    "\n",
    "        \n",
    "        print(f'El número {moda} es el mas repetido. Se repite {frecuencia} veces.')\n",
    "\n",
    "    def temperatura(valor, origen, destino):\n",
    "\n",
    "        lista = ['F','C','K']\n",
    "        if (origen in lista) and (destino in lista) and (destino != origen):\n",
    "\n",
    "            if origen == 'C':\n",
    "                if destino == 'F':\n",
    "                    valor_final = (valor * 9/5) + 32\n",
    "                elif destino == 'K':\n",
    "                    valor_final = valor + 273.15\n",
    "                return valor_final\n",
    "\n",
    "            if origen == 'F':\n",
    "                if destino == 'C':\n",
    "                    valor_final = (valor - 32) * 5/9\n",
    "                elif destino == 'K':\n",
    "                    valor_final = (valor - 32) * 5/9 + 273.15\n",
    "                return valor_final\n",
    "\n",
    "            if origen == 'K':\n",
    "                if destino == 'F':\n",
    "                    valor_final = (valor * 9/5) + 32 - 273.15\n",
    "                elif destino == 'C':\n",
    "                    valor_final = valor - 273.15\n",
    "                return valor_final\n",
    "    \n",
    "    def factorial(n):\n",
    "        if n >= 0:\n",
    "            fact = 1\n",
    "            while n > 1:\n",
    "                fact *= n\n",
    "                n -= 1\n",
    "            return fact\n",
    "        else:\n",
    "            print('El número debe ser mayor o igual a cero')"
   ]
  },
  {
   "cell_type": "markdown",
   "metadata": {},
   "source": [
    "6) Probar las funciones incorporadas en la clase del punto 5"
   ]
  },
  {
   "cell_type": "code",
   "execution_count": 39,
   "metadata": {},
   "outputs": [
    {
     "name": "stdout",
     "output_type": "stream",
     "text": [
      "True\n",
      "El número 1 es el mas repetido. Se repite 3 veces.\n"
     ]
    },
    {
     "data": {
      "text/plain": [
       "120"
      ]
     },
     "execution_count": 39,
     "metadata": {},
     "output_type": "execute_result"
    }
   ],
   "source": [
    "prueba = herramientas\n",
    "\n",
    "print(prueba.primo(numero = 7))\n",
    "prueba.contar([1,1,1,2,2,3,4,4,4],True)\n",
    "prueba.factorial(5)"
   ]
  },
  {
   "cell_type": "markdown",
   "metadata": {},
   "source": [
    "7) Es necesario que la clase creada en el punto 5 contenga una lista, sobre la cual se aplquen las funciones incorporadas"
   ]
  },
  {
   "cell_type": "markdown",
   "metadata": {},
   "source": [
    "8) Crear un archivo .py aparte y ubicar allí la clase generada en el punto anterior. Luego realizar la importación del módulo y probar alguna de sus funciones"
   ]
  }
 ],
 "metadata": {
  "interpreter": {
   "hash": "c85384e4cb51c8b72350f3a8712cc8351fdc3955e32a27f9b60c6242ab125f01"
  },
  "kernelspec": {
   "display_name": "Python 3 (ipykernel)",
   "language": "python",
   "name": "python3"
  },
  "language_info": {
   "codemirror_mode": {
    "name": "ipython",
    "version": 3
   },
   "file_extension": ".py",
   "mimetype": "text/x-python",
   "name": "python",
   "nbconvert_exporter": "python",
   "pygments_lexer": "ipython3",
   "version": "3.8.5"
  }
 },
 "nbformat": 4,
 "nbformat_minor": 4
}
