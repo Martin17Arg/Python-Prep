{
 "cells": [
  {
   "cell_type": "markdown",
   "metadata": {},
   "source": [
    "## Funciones"
   ]
  },
  {
   "cell_type": "markdown",
   "metadata": {},
   "source": [
    "1) Crear una función que reciba un número como parámetro y devuelva si True si es primo y False si no lo es"
   ]
  },
  {
   "cell_type": "code",
   "execution_count": 1,
   "metadata": {},
   "outputs": [
    {
     "name": "stdout",
     "output_type": "stream",
     "text": [
      "True\n",
      "False\n"
     ]
    }
   ],
   "source": [
    "def primo(numero):\n",
    "\n",
    "    es_primo = True\n",
    "    div = 2\n",
    "    while div < numero:\n",
    "        if (numero % div) == 0:\n",
    "            es_primo = False\n",
    "            break\n",
    "        div += 1\n",
    "\n",
    "    return es_primo\n",
    "\n",
    "print(primo(17))\n",
    "print(primo(21))\n"
   ]
  },
  {
   "cell_type": "markdown",
   "metadata": {},
   "source": [
    "2) Utilizando la función del punto 1, realizar otra función que reciba de parámetro una lista de números y devuelva sólo aquellos que son primos en otra lista"
   ]
  },
  {
   "cell_type": "code",
   "execution_count": 2,
   "metadata": {},
   "outputs": [
    {
     "name": "stdout",
     "output_type": "stream",
     "text": [
      "[0, 1, 2, 3, 5, 7, 11, 13, 17, 19, 23, 29, 31, 37, 41, 43, 47, 53, 59, 61, 67, 71, 73, 79, 83, 89, 97]\n"
     ]
    }
   ],
   "source": [
    "def lista_de_primos(lista):\n",
    "    lista_nueva =[]\n",
    "\n",
    "    for item in lista:\n",
    "        if primo(item):\n",
    "            lista_nueva.append(item)\n",
    "\n",
    "    return lista_nueva\n",
    "\n",
    "numeros = range(0,100)\n",
    "\n",
    "print(lista_de_primos(numeros))"
   ]
  },
  {
   "cell_type": "markdown",
   "metadata": {},
   "source": [
    "3) Crear una función que al recibir una lista de números, devuelva el que más se repite y cuántas veces lo hace. Si hay más de un \"más repetido\", que devuelva cualquiera"
   ]
  },
  {
   "cell_type": "code",
   "execution_count": 25,
   "metadata": {},
   "outputs": [
    {
     "name": "stdout",
     "output_type": "stream",
     "text": [
      "[1, 2, 3, 3, 4, 4, 4, 5, 5, 5]\n",
      "El número 4 es el mas repetido. Se repite 3 veces.\n"
     ]
    }
   ],
   "source": [
    "def contar(lista):\n",
    "\n",
    "    moda=0\n",
    "    frecuencia=0\n",
    "    dicc = {}\n",
    "\n",
    "    print(lista)\n",
    "\n",
    "    # Construir diccionario para contar las frecuencias\n",
    "    for item in lista:\n",
    "        if item in dicc:\n",
    "            dicc[item] += 1\n",
    "        else:\n",
    "            dicc[item] = 1\n",
    "\n",
    "    # Encontrar la máxima frecuencia\n",
    "    for item in dicc:\n",
    "        if dicc[item] > frecuencia:\n",
    "            frecuencia = dicc[item]\n",
    "            moda = item\n",
    "    \n",
    "    print(f'El número {moda} es el mas repetido. Se repite {frecuencia} veces.')\n",
    "\n",
    "numeros = [1,2,3,3,4,4,4,5,5,5]\n",
    " \n",
    "contar(numeros)"
   ]
  },
  {
   "cell_type": "markdown",
   "metadata": {},
   "source": [
    "4) A la función del punto 3, agregar un parámetro más, que permita elegir si se requiere el menor o el mayor de los mas repetidos."
   ]
  },
  {
   "cell_type": "code",
   "execution_count": 31,
   "metadata": {},
   "outputs": [
    {
     "name": "stdout",
     "output_type": "stream",
     "text": [
      "El número 5 es el mas repetido. Se repite 3 veces.\n",
      "El número 4 es el mas repetido. Se repite 3 veces.\n"
     ]
    }
   ],
   "source": [
    "def contar(lista, menor):\n",
    "\n",
    "    moda=0\n",
    "    frecuencia=0\n",
    "    dicc = {}\n",
    "\n",
    "    lista.sort(reverse = menor)\n",
    "\n",
    "    # Construir diccionario para contar las frecuencias\n",
    "    for item in lista:\n",
    "        if item in dicc:\n",
    "            dicc[item] += 1\n",
    "        else:\n",
    "            dicc[item] = 1\n",
    "\n",
    "    # Encontrar la máxima frecuencia\n",
    "    for item in dicc:\n",
    "        if dicc[item] > frecuencia:\n",
    "            frecuencia = dicc[item]\n",
    "            moda = item\n",
    "\n",
    "    \n",
    "    print(f'El número {moda} es el mas repetido. Se repite {frecuencia} veces.')\n",
    "\n",
    "numeros = [9,1,2,3,3,4,4,4,5,5,5]\n",
    "\n",
    "contar(numeros,True)\n",
    "\n",
    "contar(numeros, False)"
   ]
  },
  {
   "cell_type": "markdown",
   "metadata": {},
   "source": [
    "5) Crear una función que convierta entre grados Celsius, Farenheit y Kelvin<br>\n",
    "Fórmula 1\t: (°C × 9/5) + 32 = °F<br>\n",
    "Fórmula 2\t: °C + 273.15 = °K<br>\n",
    "Debe recibir 3 parámetros: el valor, la medida de orígen y la medida de destino\n"
   ]
  },
  {
   "cell_type": "code",
   "execution_count": 46,
   "metadata": {},
   "outputs": [
    {
     "name": "stdout",
     "output_type": "stream",
     "text": [
      "23.89\n"
     ]
    }
   ],
   "source": [
    "def temperatura(valor, origen, destino):\n",
    "\n",
    "    lista = ['F','C','K']\n",
    "    if (origen in lista) and (destino in lista) and (destino != origen):\n",
    "\n",
    "        if origen == 'C':\n",
    "            if destino == 'F':\n",
    "                valor_final = (valor * 9/5) + 32\n",
    "            elif destino == 'K':\n",
    "                valor_final = valor + 273.15\n",
    "            return valor_final\n",
    "\n",
    "        if origen == 'F':\n",
    "            if destino == 'C':\n",
    "                valor_final = (valor - 32) * 5/9\n",
    "            elif destino == 'K':\n",
    "                valor_final = (valor - 32) * 5/9 + 273.15\n",
    "            return valor_final\n",
    "\n",
    "        if origen == 'K':\n",
    "            if destino == 'F':\n",
    "                valor_final = (valor * 9/5) + 32 - 273.15\n",
    "            elif destino == 'C':\n",
    "                valor_final = valor - 273.15\n",
    "            return valor_final\n",
    "\n",
    "\n",
    "valor = 75\n",
    "origen = 'F'\n",
    "destino = 'C'\n",
    "\n",
    "print(f'{temperatura(valor, origen, destino):.2f}')"
   ]
  },
  {
   "cell_type": "markdown",
   "metadata": {},
   "source": [
    "6) Iterando una lista con los tres valores posibles de temperatura que recibe la función del punto 5, hacer un print para cada combinación de los mismos:"
   ]
  },
  {
   "cell_type": "code",
   "execution_count": 50,
   "metadata": {},
   "outputs": [
    {
     "name": "stdout",
     "output_type": "stream",
     "text": [
      "1 degree Farenheit is equivalent to -17.22 degrees Celsius\n",
      "1 degree Farenheit is equivalent to 255.93 degrees Kelvin\n",
      "1 degree Celsius is equivalent to 33.80 degrees Farenheit\n",
      "1 degree Celsius is equivalent to 274.15 degrees Kelvin\n",
      "1 degree Kelvin is equivalent to -239.35 degrees Farenheit\n",
      "1 degree Kelvin is equivalent to -272.15 degrees Celsius\n"
     ]
    }
   ],
   "source": [
    "dicc = {'F':'Farenheit', 'C': 'Celsius', 'K': 'Kelvin'}\n",
    "\n",
    "valor = 1\n",
    "lista = ['F','C','K']\n",
    "\n",
    "for i in range(0,3):\n",
    "    for j in range(0,3):\n",
    "        if i != j:\n",
    "            print(f'1 degree {dicc[lista[i]]} is equivalent to {temperatura(valor, lista[i], lista[j]):.2f} degrees {dicc[lista[j]]}')"
   ]
  },
  {
   "cell_type": "markdown",
   "metadata": {},
   "source": [
    "7) Armar una función que devuelva el factorial de un número. Tener en cuenta que el usuario puede equivocarse y enviar de parámetro un número no entero o negativo"
   ]
  },
  {
   "cell_type": "code",
   "execution_count": 52,
   "metadata": {},
   "outputs": [
    {
     "name": "stdout",
     "output_type": "stream",
     "text": [
      "120\n",
      "El número debe ser mayor o igual a cero\n"
     ]
    }
   ],
   "source": [
    "def factorial(n):\n",
    "    if n >= 0:\n",
    "        fact = 1\n",
    "        while n > 1:\n",
    "            fact *= n\n",
    "            n -= 1\n",
    "        return fact\n",
    "    else:\n",
    "        print('El número debe ser mayor o igual a cero')\n",
    "\n",
    "print(factorial(5))\n",
    "factorial(-3)"
   ]
  }
 ],
 "metadata": {
  "interpreter": {
   "hash": "c85384e4cb51c8b72350f3a8712cc8351fdc3955e32a27f9b60c6242ab125f01"
  },
  "kernelspec": {
   "display_name": "Python 3 (ipykernel)",
   "language": "python",
   "name": "python3"
  },
  "language_info": {
   "codemirror_mode": {
    "name": "ipython",
    "version": 3
   },
   "file_extension": ".py",
   "mimetype": "text/x-python",
   "name": "python",
   "nbconvert_exporter": "python",
   "pygments_lexer": "ipython3",
   "version": "3.8.5"
  }
 },
 "nbformat": 4,
 "nbformat_minor": 4
}
