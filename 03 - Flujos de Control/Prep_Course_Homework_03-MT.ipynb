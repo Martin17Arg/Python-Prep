{
 "cells": [
  {
   "cell_type": "markdown",
   "metadata": {},
   "source": [
    "1) Crear una variable que contenga un elemento del conjunto de números enteros y luego imprimir por pantalla si es mayor o menor a cero"
   ]
  },
  {
   "cell_type": "code",
   "execution_count": 1,
   "metadata": {},
   "outputs": [
    {
     "name": "stdout",
     "output_type": "stream",
     "text": [
      "El numero 3 es mayor que 0\n"
     ]
    }
   ],
   "source": [
    "a = 3\n",
    "\n",
    "if a > 0:\n",
    "    print(f'El numero {a} es mayor que 0')\n",
    "elif a < 0:\n",
    "    print(f'El numero {a} es menor que 0')\n",
    "else:\n",
    "    print(f'El numero {a} es igual a 0')\n"
   ]
  },
  {
   "cell_type": "markdown",
   "metadata": {},
   "source": [
    "2) Crear dos variables y un condicional que informe si son del mismo tipo de dato"
   ]
  },
  {
   "cell_type": "code",
   "execution_count": 2,
   "metadata": {},
   "outputs": [
    {
     "name": "stdout",
     "output_type": "stream",
     "text": [
      "Las variables tienen diferente tipo de dato\n"
     ]
    }
   ],
   "source": [
    "a = 3\n",
    "b = \"Gato\"\n",
    "\n",
    "if type(a)==type(b):\n",
    "    print('Las variables tienen el mismo tipo de dato')\n",
    "else:\n",
    "    print('Las variables tienen diferente tipo de dato')"
   ]
  },
  {
   "cell_type": "markdown",
   "metadata": {},
   "source": [
    "3) Para los valores enteros del 1 al 20, imprimir por pantalla si es par o impar"
   ]
  },
  {
   "cell_type": "code",
   "execution_count": 4,
   "metadata": {},
   "outputs": [
    {
     "name": "stdout",
     "output_type": "stream",
     "text": [
      "1 es impar\n",
      "2 es par\n",
      "3 es impar\n",
      "4 es par\n",
      "5 es impar\n",
      "6 es par\n",
      "7 es impar\n",
      "8 es par\n",
      "9 es impar\n",
      "10 es par\n",
      "11 es impar\n",
      "12 es par\n",
      "13 es impar\n",
      "14 es par\n",
      "15 es impar\n",
      "16 es par\n",
      "17 es impar\n",
      "18 es par\n",
      "19 es impar\n",
      "20 es par\n"
     ]
    }
   ],
   "source": [
    "for number in range(1,21):\n",
    "    if (number % 2 == 0):\n",
    "        print(f'{number} es par')\n",
    "    else:\n",
    "        print(f'{number} es impar')"
   ]
  },
  {
   "cell_type": "markdown",
   "metadata": {},
   "source": [
    "4) En un ciclo for mostrar para los valores entre 0 y 5 el resultado de elevarlo a la potencia igual a 3"
   ]
  },
  {
   "cell_type": "code",
   "execution_count": 6,
   "metadata": {},
   "outputs": [
    {
     "name": "stdout",
     "output_type": "stream",
     "text": [
      "El numero 0 elevado a la tercera potencia es 0\n",
      "El numero 1 elevado a la tercera potencia es 1\n",
      "El numero 2 elevado a la tercera potencia es 8\n",
      "El numero 3 elevado a la tercera potencia es 27\n",
      "El numero 4 elevado a la tercera potencia es 64\n",
      "El numero 5 elevado a la tercera potencia es 125\n"
     ]
    }
   ],
   "source": [
    "for number in range(6):\n",
    "    print(f'El numero {number} elevado a la tercera potencia es {number**3}')"
   ]
  },
  {
   "cell_type": "markdown",
   "metadata": {},
   "source": [
    "5) Crear una variable que contenga un número entero y realizar un ciclo for la misma cantidad de ciclos"
   ]
  },
  {
   "cell_type": "code",
   "execution_count": 7,
   "metadata": {},
   "outputs": [
    {
     "name": "stdout",
     "output_type": "stream",
     "text": [
      "0\n",
      "1\n",
      "2\n",
      "3\n",
      "4\n"
     ]
    }
   ],
   "source": [
    "n = 5\n",
    "\n",
    "for i in range(n):\n",
    "    print(i)"
   ]
  },
  {
   "cell_type": "markdown",
   "metadata": {},
   "source": [
    "6) Utilizar un ciclo while para realizar el factoreo de un número guardado en una variable, sólo si la variable contiene un número entero mayor a 0"
   ]
  },
  {
   "cell_type": "code",
   "execution_count": 15,
   "metadata": {},
   "outputs": [
    {
     "name": "stdout",
     "output_type": "stream",
     "text": [
      "El número debe ser mayor a cero\n"
     ]
    }
   ],
   "source": [
    "n = -2\n",
    "\n",
    "if n > 0:\n",
    "    i = n\n",
    "    acum = 1\n",
    "    while (i>0):\n",
    "        acum *= i\n",
    "        i -= 1\n",
    "\n",
    "    print(f'El factorial de {n} es {acum}')\n",
    "else:\n",
    "    print(f'El número debe ser mayor a cero')"
   ]
  },
  {
   "cell_type": "markdown",
   "metadata": {},
   "source": [
    "7) Crear un ciclo for dentro de un ciclo while"
   ]
  },
  {
   "cell_type": "code",
   "execution_count": 17,
   "metadata": {},
   "outputs": [
    {
     "name": "stdout",
     "output_type": "stream",
     "text": [
      "ciclo for 0 del ciclo while 4\n",
      "ciclo for 1 del ciclo while 4\n",
      "ciclo for 2 del ciclo while 4\n",
      "ciclo for 3 del ciclo while 4\n",
      "ciclo for 0 del ciclo while 3\n",
      "ciclo for 1 del ciclo while 3\n",
      "ciclo for 2 del ciclo while 3\n",
      "ciclo for 0 del ciclo while 2\n",
      "ciclo for 1 del ciclo while 2\n",
      "ciclo for 0 del ciclo while 1\n"
     ]
    }
   ],
   "source": [
    "n = 4\n",
    "\n",
    "while n > 0:\n",
    "    for i in range(n):\n",
    "        print(f'ciclo for {i} del ciclo while {n}')\n",
    "    n -= 1"
   ]
  },
  {
   "cell_type": "markdown",
   "metadata": {},
   "source": [
    "8) Crear un ciclo while dentro de un ciclo for"
   ]
  },
  {
   "cell_type": "code",
   "execution_count": 19,
   "metadata": {},
   "outputs": [
    {
     "name": "stdout",
     "output_type": "stream",
     "text": [
      "Ciclo for numero: 0 -->\n",
      "Ciclo for numero: 1 -->\n",
      "Ciclo while numero: 1\n",
      "Ciclo for numero: 2 -->\n",
      "Ciclo while numero: 2\n",
      "Ciclo while numero: 1\n",
      "Ciclo for numero: 3 -->\n",
      "Ciclo while numero: 3\n",
      "Ciclo while numero: 2\n",
      "Ciclo while numero: 1\n"
     ]
    }
   ],
   "source": [
    "n = 4\n",
    "\n",
    "for i in range(n):\n",
    "    print(f'Ciclo for numero: {i} -->')\n",
    "    k = i\n",
    "    while k>0:\n",
    "        print(f'Ciclo while numero: {k}')\n",
    "        k -= 1"
   ]
  },
  {
   "cell_type": "markdown",
   "metadata": {},
   "source": [
    "9) Imprimir los números primos existentes entre 0 y 30"
   ]
  },
  {
   "cell_type": "code",
   "execution_count": 25,
   "metadata": {},
   "outputs": [
    {
     "name": "stdout",
     "output_type": "stream",
     "text": [
      "El número 0 es primo.\n",
      "El número 1 es primo.\n",
      "El número 2 es primo.\n",
      "El número 3 es primo.\n",
      "El número 5 es primo.\n",
      "El número 7 es primo.\n",
      "El número 11 es primo.\n",
      "El número 13 es primo.\n",
      "El número 17 es primo.\n",
      "El número 19 es primo.\n",
      "El número 23 es primo.\n",
      "El número 29 es primo.\n"
     ]
    }
   ],
   "source": [
    "n = 30\n",
    "\n",
    "for x in range(n):\n",
    "    es_primo = True\n",
    "    for i in range(2,x-1):\n",
    "        if (x % i == 0):\n",
    "            es_primo = False\n",
    "            #sin break\n",
    "    if es_primo == True:\n",
    "        print(f'El número {x} es primo.')"
   ]
  },
  {
   "cell_type": "markdown",
   "metadata": {},
   "source": [
    "10) ¿Se puede mejorar el proceso del punto 9? Utilizar las sentencias break y/ó continue para tal fin"
   ]
  },
  {
   "cell_type": "code",
   "execution_count": 26,
   "metadata": {},
   "outputs": [
    {
     "name": "stdout",
     "output_type": "stream",
     "text": [
      "El número 0 es primo.\n",
      "El número 1 es primo.\n",
      "El número 2 es primo.\n",
      "El número 3 es primo.\n",
      "El número 5 es primo.\n",
      "El número 7 es primo.\n",
      "El número 11 es primo.\n",
      "El número 13 es primo.\n",
      "El número 17 es primo.\n",
      "El número 19 es primo.\n",
      "El número 23 es primo.\n",
      "El número 29 es primo.\n"
     ]
    }
   ],
   "source": [
    "n = 30\n",
    "\n",
    "for x in range(n):\n",
    "    es_primo = True\n",
    "    for i in range(2,x-1):\n",
    "        if (x % i == 0):\n",
    "            es_primo = False\n",
    "            break\n",
    "    if es_primo == True:\n",
    "        print(f'El número {x} es primo.')"
   ]
  },
  {
   "cell_type": "markdown",
   "metadata": {},
   "source": [
    "11) En los puntos 9 y 10, se diseño un código que encuentra números primos y además se lo optimizó. ¿Es posible saber en qué medida se optimizó?"
   ]
  },
  {
   "cell_type": "code",
   "execution_count": 28,
   "metadata": {},
   "outputs": [
    {
     "name": "stdout",
     "output_type": "stream",
     "text": [
      "El número 0 es primo.\n",
      "El número 1 es primo.\n",
      "El número 2 es primo.\n",
      "El número 3 es primo.\n",
      "El número 5 es primo.\n",
      "El número 7 es primo.\n",
      "El número 11 es primo.\n",
      "El número 13 es primo.\n",
      "El número 17 es primo.\n",
      "El número 19 es primo.\n",
      "El número 23 es primo.\n",
      "El número 29 es primo.\n",
      "Ciclos sin break: 46\n"
     ]
    }
   ],
   "source": [
    "n = 30\n",
    "ciclos_sin_break = 0\n",
    "for x in range(n):\n",
    "    es_primo = True\n",
    "    for i in range(2,x-1):\n",
    "        if (x % i == 0):\n",
    "            es_primo = False\n",
    "            #sin break\n",
    "            ciclos_sin_break +=1\n",
    "    if es_primo == True:\n",
    "        print(f'El número {x} es primo.')\n",
    "\n",
    "print(f'Ciclos sin break: {ciclos_sin_break}')"
   ]
  },
  {
   "cell_type": "code",
   "execution_count": 33,
   "metadata": {},
   "outputs": [
    {
     "name": "stdout",
     "output_type": "stream",
     "text": [
      "El número 0 es primo.\n",
      "El número 1 es primo.\n",
      "El número 2 es primo.\n",
      "El número 3 es primo.\n",
      "El número 5 es primo.\n",
      "El número 7 es primo.\n",
      "El número 11 es primo.\n",
      "El número 13 es primo.\n",
      "El número 17 es primo.\n",
      "El número 19 es primo.\n",
      "El número 23 es primo.\n",
      "El número 29 es primo.\n",
      "Ciclos con break: 18\n",
      "Se optimizó un 60.9%\n"
     ]
    }
   ],
   "source": [
    "n = 30\n",
    "ciclos_con_break = 0\n",
    "\n",
    "for x in range(n):\n",
    "    es_primo = True\n",
    "    for i in range(2,x-1):\n",
    "        if (x % i == 0):\n",
    "            es_primo = False\n",
    "            ciclos_con_break +=1\n",
    "            break\n",
    "    if es_primo == True:\n",
    "        print(f'El número {x} es primo.')\n",
    "\n",
    "print(f'Ciclos con break: {ciclos_con_break}')\n",
    "print(f'Se optimizó un {100-round(ciclos_con_break/ciclos_sin_break,3)*100}%')"
   ]
  },
  {
   "cell_type": "markdown",
   "metadata": {},
   "source": [
    "12) Si la cantidad de números que se evalúa es mayor a treinta, esa optimización crece?"
   ]
  },
  {
   "cell_type": "code",
   "execution_count": 1,
   "metadata": {},
   "outputs": [
    {
     "name": "stdout",
     "output_type": "stream",
     "text": [
      "Ciclos sin break: 18467\n",
      "Ciclos con break: 2568\n",
      "Se optimizó un 86.1%\n"
     ]
    }
   ],
   "source": [
    "n = 3000\n",
    "ciclos_sin_break = 0\n",
    "for x in range(n):\n",
    "    es_primo = True\n",
    "    for i in range(2,x-1):\n",
    "        if (x % i == 0):\n",
    "            es_primo = False\n",
    "            #sin break\n",
    "            ciclos_sin_break +=1\n",
    "    if es_primo == True:\n",
    "        pass\n",
    "\n",
    "print(f'Ciclos sin break: {ciclos_sin_break}')\n",
    "\n",
    "ciclos_con_break = 0\n",
    "\n",
    "for x in range(n):\n",
    "    es_primo = True\n",
    "    for i in range(2,x-1):\n",
    "        if (x % i == 0):\n",
    "            es_primo = False\n",
    "            ciclos_con_break +=1\n",
    "            break\n",
    "    if es_primo == True:\n",
    "        pass\n",
    "\n",
    "print(f'Ciclos con break: {ciclos_con_break}')\n",
    "print(f'Se optimizó un {100-round(ciclos_con_break/ciclos_sin_break,3)*100}%')"
   ]
  },
  {
   "cell_type": "markdown",
   "metadata": {},
   "source": [
    "13) Aplicando continue, armar un ciclo while que solo imprima los valores divisibles por 12, dentro del rango de números de 100 a 300"
   ]
  },
  {
   "cell_type": "code",
   "execution_count": 2,
   "metadata": {},
   "outputs": [
    {
     "name": "stdout",
     "output_type": "stream",
     "text": [
      "El número 108 es divisible por 12\n",
      "El número 120 es divisible por 12\n",
      "El número 132 es divisible por 12\n",
      "El número 144 es divisible por 12\n",
      "El número 156 es divisible por 12\n",
      "El número 168 es divisible por 12\n",
      "El número 180 es divisible por 12\n",
      "El número 192 es divisible por 12\n",
      "El número 204 es divisible por 12\n",
      "El número 216 es divisible por 12\n",
      "El número 228 es divisible por 12\n",
      "El número 240 es divisible por 12\n",
      "El número 252 es divisible por 12\n",
      "El número 264 es divisible por 12\n",
      "El número 276 es divisible por 12\n",
      "El número 288 es divisible por 12\n",
      "El número 300 es divisible por 12\n"
     ]
    }
   ],
   "source": [
    "n = 99\n",
    "while n < 301:\n",
    "    n += 1\n",
    "    if (n % 12) != 0:\n",
    "        continue #permite saltear todo el código del loop de aca en adelante\n",
    "    print(f'El número {n} es divisible por 12')\n"
   ]
  },
  {
   "cell_type": "markdown",
   "metadata": {},
   "source": [
    "14) Utilizar la función **input()** que permite hacer ingresos por teclado, para encontrar números primos y dar la opción al usario de buscar el siguiente"
   ]
  },
  {
   "cell_type": "code",
   "execution_count": 3,
   "metadata": {},
   "outputs": [
    {
     "name": "stdout",
     "output_type": "stream",
     "text": [
      "El número 1 es primo.\n",
      "El número 2 es primo.\n",
      "El número 3 es primo.\n",
      "El número 5 es primo.\n",
      "Finalizado.\n"
     ]
    }
   ],
   "source": [
    "# Obtener el siguiente primo mayor al número que ingreso \n",
    "\n",
    "n = 1\n",
    "respuesta = 'y'\n",
    "\n",
    "while respuesta == 'y':\n",
    "    es_primo = True\n",
    "    for i in range(2,n-1):\n",
    "        if (n % i == 0):\n",
    "            es_primo = False\n",
    "            break\n",
    "    if es_primo == True:\n",
    "        print(f'El número {n} es primo.')\n",
    "    \n",
    "    respuesta = input('Siguiente primo? (y/n): ')\n",
    "    if respuesta == 'y':\n",
    "        n += 1\n",
    "        \n",
    "print('Finalizado.')\n",
    "        "
   ]
  },
  {
   "cell_type": "markdown",
   "metadata": {},
   "source": [
    "15) Crear un ciclo while que encuentre dentro del rango de 100 a 300 el primer número divisible por 3 y además múltiplo de 6"
   ]
  },
  {
   "cell_type": "code",
   "execution_count": 9,
   "metadata": {},
   "outputs": [
    {
     "name": "stdout",
     "output_type": "stream",
     "text": [
      "El primer numero divisible es 102\n"
     ]
    }
   ],
   "source": [
    "n = 100\n",
    "div = 6\n",
    "\n",
    "while n<=300:\n",
    "    if (n%div == 0):\n",
    "        print(f'El primer numero divisible es {n}')\n",
    "        break\n",
    "    n += 1\n"
   ]
  }
 ],
 "metadata": {
  "interpreter": {
   "hash": "cd8ac7ed5329ff1f59a8356dfddf06d159cf18414acbfd7b13d1d5cd1cbb5d7d"
  },
  "kernelspec": {
   "display_name": "Python 3.8.5 ('base')",
   "language": "python",
   "name": "python3"
  },
  "language_info": {
   "codemirror_mode": {
    "name": "ipython",
    "version": 3
   },
   "file_extension": ".py",
   "mimetype": "text/x-python",
   "name": "python",
   "nbconvert_exporter": "python",
   "pygments_lexer": "ipython3",
   "version": "3.8.5"
  },
  "orig_nbformat": 4
 },
 "nbformat": 4,
 "nbformat_minor": 2
}
